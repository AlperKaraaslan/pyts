{
  "nbformat_minor": 0, 
  "nbformat": 4, 
  "cells": [
    {
      "execution_count": null, 
      "cell_type": "code", 
      "source": [
        "%matplotlib inline"
      ], 
      "outputs": [], 
      "metadata": {
        "collapsed": false
      }
    }, 
    {
      "source": [
        "\n# Gramian Angular Field\n\n\nThis example shows how you can transform a time series into a Gramian Angular\nField using :class:`pyts.image.GASF` for Gramian Angular Summation Field and\n:class:`pyts.image.GADF` for Gramian Angular Difference Field.\n\n"
      ], 
      "cell_type": "markdown", 
      "metadata": {}
    }, 
    {
      "execution_count": null, 
      "cell_type": "code", 
      "source": [
        "import numpy as np\nimport matplotlib.pyplot as plt\nfrom pyts.image import GASF, GADF\n\n# Parameters\nn_samples, n_features = 100, 144\n\n# Toy dataset\nrng = np.random.RandomState(41)\nX = rng.randn(n_samples, n_features)\n\n# GAF transformations\nimage_size = 24\ngasf = GASF(image_size)\nX_gasf = gasf.fit_transform(X)\ngadf = GADF(image_size)\nX_gadf = gadf.fit_transform(X)\n\n# Show the results for the first time series\nplt.figure(figsize=(16, 8))\nplt.subplot(121)\nplt.imshow(X_gasf[0], cmap='rainbow', origin='lower')\nplt.title(\"GASF\", fontsize=16)\nplt.subplot(122)\nplt.imshow(X_gadf[0], cmap='rainbow', origin='lower')\nplt.title(\"GADF\", fontsize=16)\nplt.show()"
      ], 
      "outputs": [], 
      "metadata": {
        "collapsed": false
      }
    }
  ], 
  "metadata": {
    "kernelspec": {
      "display_name": "Python 2", 
      "name": "python2", 
      "language": "python"
    }, 
    "language_info": {
      "mimetype": "text/x-python", 
      "nbconvert_exporter": "python", 
      "name": "python", 
      "file_extension": ".py", 
      "version": "2.7.11", 
      "pygments_lexer": "ipython2", 
      "codemirror_mode": {
        "version": 2, 
        "name": "ipython"
      }
    }
  }
}