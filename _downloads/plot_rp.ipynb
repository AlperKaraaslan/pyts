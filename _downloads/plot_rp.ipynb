{
  "nbformat_minor": 0, 
  "nbformat": 4, 
  "cells": [
    {
      "execution_count": null, 
      "cell_type": "code", 
      "source": [
        "%matplotlib inline"
      ], 
      "outputs": [], 
      "metadata": {
        "collapsed": false
      }
    }, 
    {
      "source": [
        "\n# Recurrence Plots\n\n\nThis example shows how you can transform a time series into a Recurrence Plot\nusing :class:`pyts.image.RecurrencePlots`.\n\n"
      ], 
      "cell_type": "markdown", 
      "metadata": {}
    }, 
    {
      "execution_count": null, 
      "cell_type": "code", 
      "source": [
        "import numpy as np\nimport matplotlib.pyplot as plt\nfrom pyts.image import RecurrencePlots\n\n# Parameters\nn_samples, n_features = 100, 144\n\n# Toy dataset\nrng = np.random.RandomState(41)\nX = rng.randn(n_samples, n_features)\n\n# Recurrence plot transformation\nrp = RecurrencePlots(dimension=1,\n                     epsilon='percentage_points',\n                     percentage=30)\nX_rp = rp.fit_transform(X)\n\n# Show the results for the first time series\nplt.figure(figsize=(8, 8))\nplt.imshow(X_rp[0], cmap='binary', origin='lower')\nplt.show()"
      ], 
      "outputs": [], 
      "metadata": {
        "collapsed": false
      }
    }
  ], 
  "metadata": {
    "kernelspec": {
      "display_name": "Python 2", 
      "name": "python2", 
      "language": "python"
    }, 
    "language_info": {
      "mimetype": "text/x-python", 
      "nbconvert_exporter": "python", 
      "name": "python", 
      "file_extension": ".py", 
      "version": "2.7.11", 
      "pygments_lexer": "ipython2", 
      "codemirror_mode": {
        "version": 2, 
        "name": "ipython"
      }
    }
  }
}