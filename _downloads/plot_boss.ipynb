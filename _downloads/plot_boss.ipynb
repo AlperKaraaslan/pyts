{
  "nbformat_minor": 0, 
  "nbformat": 4, 
  "cells": [
    {
      "execution_count": null, 
      "cell_type": "code", 
      "source": [
        "%matplotlib inline"
      ], 
      "outputs": [], 
      "metadata": {
        "collapsed": false
      }
    }, 
    {
      "source": [
        "\n# Bag-of-SFA Symbols\n\n\nThis example shows how the BOSS algorithm transforms a time series of real\nnumbers into a sequence of frequencies of words. It is implemented as\n:class:`pyts.transformation.BOSS`.\n\n"
      ], 
      "cell_type": "markdown", 
      "metadata": {}
    }, 
    {
      "execution_count": null, 
      "cell_type": "code", 
      "source": [
        "import numpy as np\nimport matplotlib.pyplot as plt\nfrom pyts.transformation import BOSS\n\n# Parameters\nn_samples, n_features = 100, 144\n\n# Toy dataset\nrng = np.random.RandomState(41)\nX = rng.randn(n_samples, n_features)\n\n# BOSS transformation\nboss = BOSS(n_coefs=2, window_size=12)\nX_boss = boss.fit_transform(X).toarray()\n\n# Visualize the transformation for the first time series\nplt.figure(figsize=(12, 8))\nplt.bar(np.arange(X_boss[0].size), X_boss[0])\nplt.xticks(np.arange(X_boss[0].size),\n           np.vectorize(boss.vocabulary_.get)(np.arange(X_boss[0].size)),\n           fontsize=14)\nplt.xlabel(\"Words\", fontsize=18)\nplt.ylabel(\"Frequencies\", fontsize=18)\nplt.show()"
      ], 
      "outputs": [], 
      "metadata": {
        "collapsed": false
      }
    }
  ], 
  "metadata": {
    "kernelspec": {
      "display_name": "Python 2", 
      "name": "python2", 
      "language": "python"
    }, 
    "language_info": {
      "mimetype": "text/x-python", 
      "nbconvert_exporter": "python", 
      "name": "python", 
      "file_extension": ".py", 
      "version": "2.7.11", 
      "pygments_lexer": "ipython2", 
      "codemirror_mode": {
        "version": 2, 
        "name": "ipython"
      }
    }
  }
}