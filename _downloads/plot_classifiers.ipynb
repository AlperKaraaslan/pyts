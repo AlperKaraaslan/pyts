{
  "nbformat_minor": 0, 
  "nbformat": 4, 
  "cells": [
    {
      "execution_count": null, 
      "cell_type": "code", 
      "source": [
        "%matplotlib inline"
      ], 
      "outputs": [], 
      "metadata": {
        "collapsed": false
      }
    }, 
    {
      "source": [
        "\n# Classifiers\n\n\nThis example shows how to use the classifiers from :mod:`pyts.classification`.\nIf you are familiar with scikit-learn classifiers, it is straightforward. The\nconfusion matrix for each classifier is also plotted.\n\n"
      ], 
      "cell_type": "markdown", 
      "metadata": {}
    }, 
    {
      "execution_count": null, 
      "cell_type": "code", 
      "source": [
        "import numpy as np\nimport matplotlib.pyplot as plt\nfrom itertools import product\nfrom sklearn.metrics import confusion_matrix\nfrom sklearn.model_selection import train_test_split\nfrom pyts.classification import (BOSSVSClassifier, SAXVSMClassifier,\n                                 KNNClassifier)\n\n# Parameters\nn_samples, n_features = 200, 144\nn_classes = 3\n\n# Toy dataset\nrng = np.random.RandomState(41)\nX = rng.randn(n_samples, n_features)\ny = rng.randint(n_classes, size=n_samples)\n\n# Train/test split\nX_train, X_test, y_train, y_test = train_test_split(\n    X, y, test_size=0.33, random_state=4141)\n\n# BOSSVSClassifier\nbossvs = BOSSVSClassifier(n_coefs=4, window_size=24)\nbossvs.fit(X_train, y_train)\ny_pred_boss = bossvs.predict(X_test)\n\n# SAXVSMClassifier\nsaxvsm = SAXVSMClassifier()\nsaxvsm.fit(X_train, y_train)\ny_pred_saxvsm = saxvsm.predict(X_test)\n\n# KNNClassifier\nknn = KNNClassifier()\nknn.fit(X_train, y_train)\ny_pred_knn = knn.predict(X_test)\n\n# Confusion matrices\ncm_boss = confusion_matrix(y_test, y_pred_boss)\ncm_boss = cm_boss.astype('float') / cm_boss.sum(axis=1)[:, np.newaxis]\n\ncm_saxvsm = confusion_matrix(y_test, y_pred_saxvsm)\ncm_saxvsm = cm_saxvsm.astype('float') / cm_saxvsm.sum(axis=1)[:, np.newaxis]\n\ncm_knn = confusion_matrix(y_test, y_pred_knn)\ncm_knn = cm_knn.astype('float') / cm_knn.sum(axis=1)[:, np.newaxis]\n\ndictionary = {\"BOSSVSClassifier\": cm_boss,\n              \"SAXVSMClassifier\": cm_saxvsm,\n              \"KNNClassifier\": cm_knn}\n\n# Plot confusion matrices\nplt.figure(figsize=(18, 6))\nfor idx, (title, cm) in zip(range(1, 4), dictionary.items()):\n    plt.subplot(130 + idx)\n    plt.imshow(cm, interpolation='nearest', cmap=plt.cm.Blues)\n    thresh = (cm.max() + cm.min()) / 2.\n    for i, j in product(range(cm.shape[0]), range(cm.shape[1])):\n        plt.text(j, i, format(cm[i, j], '0.2f'),\n                 horizontalalignment=\"center\",\n                 color=\"white\" if cm[i, j] > thresh else \"black\")\n    plt.colorbar(fraction=0.046, pad=0.04, format='%.1f')\n    plt.title(title, fontsize=16)\n    tick_marks = np.arange(n_classes)\n    plt.xticks(tick_marks, tick_marks)\n    plt.yticks(tick_marks, tick_marks)\n    plt.tight_layout()\n    plt.ylabel('True label', fontsize=12)\n    plt.xlabel('Predicted label', fontsize=12)\nplt.show()"
      ], 
      "outputs": [], 
      "metadata": {
        "collapsed": false
      }
    }
  ], 
  "metadata": {
    "kernelspec": {
      "display_name": "Python 2", 
      "name": "python2", 
      "language": "python"
    }, 
    "language_info": {
      "mimetype": "text/x-python", 
      "nbconvert_exporter": "python", 
      "name": "python", 
      "file_extension": ".py", 
      "version": "2.7.11", 
      "pygments_lexer": "ipython2", 
      "codemirror_mode": {
        "version": 2, 
        "name": "ipython"
      }
    }
  }
}