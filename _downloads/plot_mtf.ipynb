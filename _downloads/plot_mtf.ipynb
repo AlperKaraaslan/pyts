{
  "nbformat_minor": 0, 
  "nbformat": 4, 
  "cells": [
    {
      "execution_count": null, 
      "cell_type": "code", 
      "source": [
        "%matplotlib inline"
      ], 
      "outputs": [], 
      "metadata": {
        "collapsed": false
      }
    }, 
    {
      "source": [
        "\n# Markov Transition Field\n\n\nThis example shows how you can transform a time series into a Markov Transition\nField using :class:`pyts.image.MTF`.\n\n"
      ], 
      "cell_type": "markdown", 
      "metadata": {}
    }, 
    {
      "execution_count": null, 
      "cell_type": "code", 
      "source": [
        "import numpy as np\nimport matplotlib.pyplot as plt\nfrom pyts.image import MTF\n\n# Parameters\nn_samples, n_features = 100, 144\n\n# Toy dataset\nrng = np.random.RandomState(41)\nX = rng.randn(n_samples, n_features)\n\n# MTF transformation\nimage_size = 24\nmtf = MTF(image_size)\nX_mtf = mtf.fit_transform(X)\n\n# Show the results for the first time series\nplt.figure(figsize=(8, 8))\nplt.imshow(X_mtf[0], cmap='rainbow', origin='lower')\nplt.show()"
      ], 
      "outputs": [], 
      "metadata": {
        "collapsed": false
      }
    }
  ], 
  "metadata": {
    "kernelspec": {
      "display_name": "Python 2", 
      "name": "python2", 
      "language": "python"
    }, 
    "language_info": {
      "mimetype": "text/x-python", 
      "nbconvert_exporter": "python", 
      "name": "python", 
      "file_extension": ".py", 
      "version": "2.7.11", 
      "pygments_lexer": "ipython2", 
      "codemirror_mode": {
        "version": 2, 
        "name": "ipython"
      }
    }
  }
}