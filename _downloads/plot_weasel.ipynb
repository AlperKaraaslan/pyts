{
  "nbformat_minor": 0, 
  "nbformat": 4, 
  "cells": [
    {
      "execution_count": null, 
      "cell_type": "code", 
      "source": [
        "%matplotlib inline"
      ], 
      "outputs": [], 
      "metadata": {
        "collapsed": false
      }
    }, 
    {
      "source": [
        "\n# Word ExtrAction for time SEries cLassification\n\n\nThis example shows how the WEASEL algorithm transforms a time series of real\nnumbers into a sequence of frequencies of words. It is implemented as\n:class:`pyts.transformation.WEASEL`.\n\n"
      ], 
      "cell_type": "markdown", 
      "metadata": {}
    }, 
    {
      "execution_count": null, 
      "cell_type": "code", 
      "source": [
        "import numpy as np\nimport matplotlib.pyplot as plt\nfrom pyts.transformation import WEASEL\n\n# Parameters\nn_samples, n_features = 100, 144\nn_classes = 2\n\n# Toy dataset\nrng = np.random.RandomState(41)\nX = rng.randn(n_samples, n_features)\ny = rng.randint(n_classes, size=n_samples)\n\n# WEASEL transformation\nweasel = WEASEL(n_coefs=2, window_sizes=[12, 24, 36], pvalue_threshold=0.2)\nX_weasel = weasel.fit_transform(X, y).toarray()\n\n# Visualize the transformation for the first time series\nplt.figure(figsize=(12, 8))\nplt.bar(np.arange(X_weasel[0].size), X_weasel[0])\nplt.xticks(np.arange(X_weasel[0].size),\n           np.vectorize(weasel.vocabulary_.get)(np.arange(X_weasel[0].size)),\n           fontsize=12, rotation=60)\nplt.xlabel(\"Words\", fontsize=18)\nplt.ylabel(\"Frequencies\", fontsize=18)\nplt.show()"
      ], 
      "outputs": [], 
      "metadata": {
        "collapsed": false
      }
    }
  ], 
  "metadata": {
    "kernelspec": {
      "display_name": "Python 2", 
      "name": "python2", 
      "language": "python"
    }, 
    "language_info": {
      "mimetype": "text/x-python", 
      "nbconvert_exporter": "python", 
      "name": "python", 
      "file_extension": ".py", 
      "version": "2.7.11", 
      "pygments_lexer": "ipython2", 
      "codemirror_mode": {
        "version": 2, 
        "name": "ipython"
      }
    }
  }
}