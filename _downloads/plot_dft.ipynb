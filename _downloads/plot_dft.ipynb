{
  "nbformat_minor": 0, 
  "nbformat": 4, 
  "cells": [
    {
      "execution_count": null, 
      "cell_type": "code", 
      "source": [
        "%matplotlib inline"
      ], 
      "outputs": [], 
      "metadata": {
        "collapsed": false
      }
    }, 
    {
      "source": [
        "\n# Discrete Fourier Transform\n\n\nThis example shows how you can approximate a time series using only some of its\nFourier coefficients using :class:`pyts.approximation.DFT`.\n\n"
      ], 
      "cell_type": "markdown", 
      "metadata": {}
    }, 
    {
      "execution_count": null, 
      "cell_type": "code", 
      "source": [
        "import numpy as np\nimport matplotlib.pyplot as plt\nfrom pyts.approximation import DFT\n\n# Parameters\nn_samples, n_features = 100, 48\n\n# Toy dataset\nrng = np.random.RandomState(41)\nX = rng.randn(n_samples, n_features)\n\n# DFT transformation\nn_coefs = 20\nnorm_mean = False\nnorm_std = False\ndft = DFT(n_coefs=n_coefs, norm_mean=norm_mean, norm_std=norm_std)\nX_dft = dft.fit_transform(X)\n\n# Compute the approximation for the first time series\ntimestamps = np.arange(n_features) / n_features\nx_dft = np.zeros(n_features)\nfor n in range(n_coefs // 2):\n    x_dft += X_dft[0, 2 * n] * np.cos(2 * n * np.pi * timestamps) / n_features\n    x_dft += X_dft[0, (2 * n) + 1] * np.sin(2 * n * np.pi * timestamps) / \\\n        n_features\n\n# Show the results for the first time series\nplt.figure(figsize=(12, 8))\nplt.plot(X[0], 'o-', label='Original')\nplt.plot(x_dft, 'o--', label='DFT - {0} coefs'.format(n_coefs))\nplt.legend(loc='best', fontsize=14)\nplt.show()"
      ], 
      "outputs": [], 
      "metadata": {
        "collapsed": false
      }
    }
  ], 
  "metadata": {
    "kernelspec": {
      "display_name": "Python 2", 
      "name": "python2", 
      "language": "python"
    }, 
    "language_info": {
      "mimetype": "text/x-python", 
      "nbconvert_exporter": "python", 
      "name": "python", 
      "file_extension": ".py", 
      "version": "2.7.11", 
      "pygments_lexer": "ipython2", 
      "codemirror_mode": {
        "version": 2, 
        "name": "ipython"
      }
    }
  }
}