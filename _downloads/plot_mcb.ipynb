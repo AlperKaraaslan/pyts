{
  "nbformat_minor": 0, 
  "nbformat": 4, 
  "cells": [
    {
      "execution_count": null, 
      "cell_type": "code", 
      "source": [
        "%matplotlib inline"
      ], 
      "outputs": [], 
      "metadata": {
        "collapsed": false
      }
    }, 
    {
      "source": [
        "\n# Multiple Coefficient Binning\n\n\nThis example shows how the MCB algorithm transforms a dataset of time series of\nreal numbers into a list of sequences of letters. It is implemented as\n:class:`pyts.quantization.MCB`.\n\n"
      ], 
      "cell_type": "markdown", 
      "metadata": {}
    }, 
    {
      "execution_count": null, 
      "cell_type": "code", 
      "source": [
        "import numpy as np\nimport matplotlib.lines as mlines\nimport matplotlib.pyplot as plt\nfrom pyts.quantization import MCB\n\n# Parameters\nn_samples, n_features = 6, 12\n\n# Toy dataset\nrng = np.random.RandomState(41)\nX = rng.randn(n_samples, n_features)\n\n# MCB transformation\nn_bins = 3\nquantiles = 'empirical'\nmcb = MCB(n_bins=n_bins, quantiles=quantiles)\nX_mcb = mcb.fit_transform(X)\n\n# Compute bins\nbins = mcb._bins\n\n# Show the results for the first time series\nplt.figure(figsize=(12, 8))\n# First time series\nplt.plot(X[0], 'o-', label='TS 1')\nfor x, y, s in zip(range(n_features), X[0], X_mcb[0]):\n    plt.text(x, y, s, ha='center', va='bottom', fontsize=20, color='#1f77b4')\n# Second time series\nplt.plot(X[5], 'o-', label='TS 2')\nfor x, y, s in zip(range(n_features), X[5], X_mcb[5]):\n    plt.text(x, y, s, ha='center', va='bottom', fontsize=20, color='#ff7f0e')\nplt.hlines(bins, np.arange(n_features) - 0.5, np.arange(n_features) + 0.5,\n           color='g', linestyles='--', linewidth=0.7)\nplt.vlines(np.arange(n_features + 1) - 0.5, X.min(), X.max(),\n           linestyles='--', linewidth=0.5)\nmcb_legend_1 = mlines.Line2D([], [], color='#1f77b4', marker='*',\n                             label='MCB TS 1 - {0} bins'.format(n_bins))\nmcb_legend_2 = mlines.Line2D([], [], color='#ff7f0e', marker='*',\n                             label='MCB TS 2 - {0} bins'.format(n_bins))\nfirst_legend = plt.legend(handles=[mcb_legend_1, mcb_legend_2],\n                          fontsize=14, loc=4)\nax = plt.gca().add_artist(first_legend)\nplt.legend(loc='best', fontsize=14)\nplt.title(\"Multiple Coefficient Binning - TS = Time Series\", fontsize=18)\nplt.show()"
      ], 
      "outputs": [], 
      "metadata": {
        "collapsed": false
      }
    }
  ], 
  "metadata": {
    "kernelspec": {
      "display_name": "Python 2", 
      "name": "python2", 
      "language": "python"
    }, 
    "language_info": {
      "mimetype": "text/x-python", 
      "nbconvert_exporter": "python", 
      "name": "python", 
      "file_extension": ".py", 
      "version": "2.7.11", 
      "pygments_lexer": "ipython2", 
      "codemirror_mode": {
        "version": 2, 
        "name": "ipython"
      }
    }
  }
}