{
  "nbformat_minor": 0, 
  "nbformat": 4, 
  "cells": [
    {
      "execution_count": null, 
      "cell_type": "code", 
      "source": [
        "%matplotlib inline"
      ], 
      "outputs": [], 
      "metadata": {
        "collapsed": false
      }
    }, 
    {
      "source": [
        "\n# Symbolic Aggregate approXimation\n\n\nThis example shows how you can quantize a time series (i.e. transform a\nsequence of real numbers into a sequence of letters) using\n:class:`pyts.quantization.SAX`.\n\n"
      ], 
      "cell_type": "markdown", 
      "metadata": {}
    }, 
    {
      "execution_count": null, 
      "cell_type": "code", 
      "source": [
        "import numpy as np\nimport matplotlib.lines as mlines\nimport matplotlib.pyplot as plt\nfrom scipy.stats import norm\nfrom pyts.quantization import SAX\n\n# Parameters\nn_samples, n_features = 100, 12\n\n# Toy dataset\nrng = np.random.RandomState(41)\nX = rng.randn(n_samples, n_features)\n\n# SAX transformation\nn_bins = 3\nquantiles = 'gaussian'\nsax = SAX(n_bins=n_bins, quantiles=quantiles)\nX_sax = sax.fit_transform(X)\n\n# Compute gaussian bins\nbins = norm.ppf(np.linspace(0, 1, n_bins + 1)[1:-1])\n\n# Show the results for the first time series\nplt.figure(figsize=(12, 8))\nplt.plot(X[0], 'o-', label='Original')\nfor x, y, s in zip(range(n_features), X[0], X_sax[0]):\n    plt.text(x, y, s, ha='center', va='bottom', fontsize=24, color='#ff7f0e')\nplt.hlines(bins, 0, n_features, color='g', linestyles='--', linewidth=0.5)\nsax_legend = mlines.Line2D([], [], color='#ff7f0e', marker='*',\n                           label='SAX - {0} bins'.format(n_bins))\nfirst_legend = plt.legend(handles=[sax_legend], fontsize=14, loc=4)\nax = plt.gca().add_artist(first_legend)\nplt.legend(loc='best', fontsize=14)\nplt.show()"
      ], 
      "outputs": [], 
      "metadata": {
        "collapsed": false
      }
    }
  ], 
  "metadata": {
    "kernelspec": {
      "display_name": "Python 2", 
      "name": "python2", 
      "language": "python"
    }, 
    "language_info": {
      "mimetype": "text/x-python", 
      "nbconvert_exporter": "python", 
      "name": "python", 
      "file_extension": ".py", 
      "version": "2.7.11", 
      "pygments_lexer": "ipython2", 
      "codemirror_mode": {
        "version": 2, 
        "name": "ipython"
      }
    }
  }
}