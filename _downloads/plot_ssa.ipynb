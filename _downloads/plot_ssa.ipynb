{
  "nbformat_minor": 0, 
  "nbformat": 4, 
  "cells": [
    {
      "execution_count": null, 
      "cell_type": "code", 
      "source": [
        "%matplotlib inline"
      ], 
      "outputs": [], 
      "metadata": {
        "collapsed": false
      }
    }, 
    {
      "source": [
        "\n# Singular Spectrum Analysis\n\n\nThis example shows how you can decompose a time series into several time series\nusing :class:`pyts.decomposition.SSA`.\n\n"
      ], 
      "cell_type": "markdown", 
      "metadata": {}
    }, 
    {
      "execution_count": null, 
      "cell_type": "code", 
      "source": [
        "import numpy as np\nimport matplotlib.pyplot as plt\nfrom pyts.decomposition import SSA\n\n# Parameters\nn_samples, n_features = 100, 48\n\n# Toy dataset\nrng = np.random.RandomState(41)\nX = rng.randn(n_samples, n_features)\n\n# SSA transformation\nwindow_size = 15\ngrouping = [[0, 1]]\nssa = SSA(window_size, grouping)\nX_ssa = ssa.fit_transform(X)\n\n# Show the results for the first time series\nplt.figure(figsize=(12, 8))\nplt.plot(X[0], 'o-', label='Original')\nplt.plot(X_ssa[0, 0], 'o--', label='SSA')\nplt.legend(loc='best', fontsize=14)\nplt.show()"
      ], 
      "outputs": [], 
      "metadata": {
        "collapsed": false
      }
    }
  ], 
  "metadata": {
    "kernelspec": {
      "display_name": "Python 2", 
      "name": "python2", 
      "language": "python"
    }, 
    "language_info": {
      "mimetype": "text/x-python", 
      "nbconvert_exporter": "python", 
      "name": "python", 
      "file_extension": ".py", 
      "version": "2.7.11", 
      "pygments_lexer": "ipython2", 
      "codemirror_mode": {
        "version": 2, 
        "name": "ipython"
      }
    }
  }
}