{
  "nbformat_minor": 0, 
  "nbformat": 4, 
  "cells": [
    {
      "execution_count": null, 
      "cell_type": "code", 
      "source": [
        "%matplotlib inline"
      ], 
      "outputs": [], 
      "metadata": {
        "collapsed": false
      }
    }, 
    {
      "source": [
        "\n# Piecewise Aggregate Approximation\n\n\nThis example shows how you can approximate a time series using\n:class:`pyts.approximation.PAA`.\n\n"
      ], 
      "cell_type": "markdown", 
      "metadata": {}
    }, 
    {
      "execution_count": null, 
      "cell_type": "code", 
      "source": [
        "import numpy as np\nimport matplotlib.pyplot as plt\nfrom pyts.approximation import PAA\n\n# Parameters\nn_samples, n_features = 100, 48\n\n# Toy dataset\nrng = np.random.RandomState(41)\nX = rng.randn(n_samples, n_features)\n\n# PAA transformation\nwindow_size = 6\npaa = PAA(window_size=window_size)\nX_paa = paa.transform(X)\n\n# Show the results for the first time series\nplt.figure(figsize=(12, 8))\nplt.plot(np.arange(n_features), X[0], 'o-', label='Original')\nplt.plot(np.arange(window_size // 2,\n                   n_features + window_size // 2,\n                   window_size), X_paa[0], 'o--', label='PAA')\nplt.vlines(np.arange(0, n_features, window_size),\n           X[0].min(), X[0].max(), color='g', linestyles='--', linewidth=0.5)\nplt.legend(loc='best', fontsize=14)\nplt.show()"
      ], 
      "outputs": [], 
      "metadata": {
        "collapsed": false
      }
    }
  ], 
  "metadata": {
    "kernelspec": {
      "display_name": "Python 2", 
      "name": "python2", 
      "language": "python"
    }, 
    "language_info": {
      "mimetype": "text/x-python", 
      "nbconvert_exporter": "python", 
      "name": "python", 
      "file_extension": ".py", 
      "version": "2.7.11", 
      "pygments_lexer": "ipython2", 
      "codemirror_mode": {
        "version": 2, 
        "name": "ipython"
      }
    }
  }
}