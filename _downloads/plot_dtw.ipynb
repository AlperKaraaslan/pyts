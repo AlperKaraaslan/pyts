{
  "nbformat_minor": 0, 
  "nbformat": 4, 
  "cells": [
    {
      "execution_count": null, 
      "cell_type": "code", 
      "source": [
        "%matplotlib inline"
      ], 
      "outputs": [], 
      "metadata": {
        "collapsed": false
      }
    }, 
    {
      "source": [
        "\n# Dynamic Time Warping\n\n\nThis example shows how to compute and visualize the optimal path when computing\nthe Dynamic Time Warping distance between two time series. It is implemented\nas :func:`pyts.utils.dtw`.\n\n"
      ], 
      "cell_type": "markdown", 
      "metadata": {}
    }, 
    {
      "execution_count": null, 
      "cell_type": "code", 
      "source": [
        "import numpy as np\nimport matplotlib.pyplot as plt\nfrom pyts.utils import dtw\n\n# Parameters\nn_samples, n_features = 2, 48\n\n# Toy dataset\nrng = np.random.RandomState(41)\nx, y = rng.randn(n_samples, n_features)\n\n# Dynamic Time Warping\nD, path = dtw(x, y, dist='absolute', return_path=True)\n\n# Visualize the result\ntimestamps = np.arange(n_features + 1)\nmatrix = np.zeros([n_features + 1, n_features + 1])\nfor i in range(len(path)):\n    matrix[path[i][0], path[i][1]] = 1\n\nplt.figure(figsize=(8, 8))\nplt.pcolor(timestamps, timestamps, matrix, edgecolors='k', cmap='Greys')\nplt.xlabel('x', fontsize=20)\nplt.ylabel('y', fontsize=20)\nplt.title(\"Path along the cost matrix\", fontsize=16)\nplt.suptitle(\"Dynamic Time Warping\", fontsize=22)\nplt.show()"
      ], 
      "outputs": [], 
      "metadata": {
        "collapsed": false
      }
    }
  ], 
  "metadata": {
    "kernelspec": {
      "display_name": "Python 2", 
      "name": "python2", 
      "language": "python"
    }, 
    "language_info": {
      "mimetype": "text/x-python", 
      "nbconvert_exporter": "python", 
      "name": "python", 
      "file_extension": ".py", 
      "version": "2.7.11", 
      "pygments_lexer": "ipython2", 
      "codemirror_mode": {
        "version": 2, 
        "name": "ipython"
      }
    }
  }
}