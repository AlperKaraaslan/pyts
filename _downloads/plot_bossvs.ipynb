{
  "nbformat_minor": 0, 
  "nbformat": 4, 
  "cells": [
    {
      "execution_count": null, 
      "cell_type": "code", 
      "source": [
        "%matplotlib inline"
      ], 
      "outputs": [], 
      "metadata": {
        "collapsed": false
      }
    }, 
    {
      "source": [
        "\n# Bag-of-SFA Symbols in Vector Space\n\n\nThis example shows how the BOSSVS algorithm transforms a dataset consisting of\ntime series and their corresponding labels into a document-term matrix using\ntfidf. Each class is represented as a tfidf vector. For an unlabeled time\nseries, the predicted label is the label of the tfidf vector giving the highest\ncosine similarity with the tf vector of the unlabeled time series. Here we plot\nthe tfidf vectors for each clss. BOSSVS algorithm is implemented as\n:class:`pyts.classification.BOSSVSClassifier`.\n\n"
      ], 
      "cell_type": "markdown", 
      "metadata": {}
    }, 
    {
      "execution_count": null, 
      "cell_type": "code", 
      "source": [
        "import numpy as np\nimport matplotlib.pyplot as plt\nfrom pyts.classification import BOSSVSClassifier\n\n# Parameters\nn_samples, n_features = 100, 144\nn_classes = 2\n\n# Toy dataset\nrng = np.random.RandomState(41)\nX = rng.randn(n_samples, n_features)\ny = rng.randint(n_classes, size=n_samples)\n\n# BOSSVS transformation\nbossvs = BOSSVSClassifier(n_coefs=2, window_size=24, variance_selection=True)\nbossvs.fit(X, y)\ntfidf = bossvs.tfidf_.toarray()\n\n# Visualize the transformation\nplt.figure(figsize=(12, 8))\nplt.bar(np.arange(tfidf[0].size) - 0.2, tfidf[0], width=0.4, label='Class 0')\nplt.bar(np.arange(tfidf[0].size) + 0.2, tfidf[1], width=0.4, label='Class 1')\nplt.xticks(np.arange(tfidf[0].size),\n           np.vectorize(bossvs.vocabulary_.get)(np.arange(tfidf[0].size)),\n           fontsize=14)\nplt.xlabel(\"Words\", fontsize=18)\nplt.ylabel(\"tfidf\", fontsize=18)\nplt.legend(loc='best', fontsize=14)\nplt.show()"
      ], 
      "outputs": [], 
      "metadata": {
        "collapsed": false
      }
    }
  ], 
  "metadata": {
    "kernelspec": {
      "display_name": "Python 2", 
      "name": "python2", 
      "language": "python"
    }, 
    "language_info": {
      "mimetype": "text/x-python", 
      "nbconvert_exporter": "python", 
      "name": "python", 
      "file_extension": ".py", 
      "version": "2.7.11", 
      "pygments_lexer": "ipython2", 
      "codemirror_mode": {
        "version": 2, 
        "name": "ipython"
      }
    }
  }
}