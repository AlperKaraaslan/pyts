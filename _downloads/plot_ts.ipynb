{
  "nbformat_minor": 0, 
  "nbformat": 4, 
  "cells": [
    {
      "execution_count": null, 
      "cell_type": "code", 
      "source": [
        "%matplotlib inline"
      ], 
      "outputs": [], 
      "metadata": {
        "collapsed": false
      }
    }, 
    {
      "source": [
        "\n# Plotting a time series\n\n\nAn example plot of `pyts.visualization.plot_ts`\n\n"
      ], 
      "cell_type": "markdown", 
      "metadata": {}
    }, 
    {
      "execution_count": null, 
      "cell_type": "code", 
      "source": [
        "import numpy as np\nfrom scipy.stats import norm\nfrom pyts.visualization import plot_ts\n\n# Parameters\nn_samples = 100\nn_features = 48\nrng = np.random.RandomState(41)\ndelta = 0.5\ndt = 1\n\n# Generate a toy dataset\nX = (norm.rvs(scale=delta**2 * dt, size=n_samples*n_features, random_state=rng)\n         .reshape((n_samples, n_features)))\nX[:, 0] = 0\nX = np.cumsum(X, axis=1)\n\n# Plot the first sample\nplot_ts(X[0])"
      ], 
      "outputs": [], 
      "metadata": {
        "collapsed": false
      }
    }
  ], 
  "metadata": {
    "kernelspec": {
      "display_name": "Python 2", 
      "name": "python2", 
      "language": "python"
    }, 
    "language_info": {
      "mimetype": "text/x-python", 
      "nbconvert_exporter": "python", 
      "name": "python", 
      "file_extension": ".py", 
      "version": "2.7.11", 
      "pygments_lexer": "ipython2", 
      "codemirror_mode": {
        "version": 2, 
        "name": "ipython"
      }
    }
  }
}