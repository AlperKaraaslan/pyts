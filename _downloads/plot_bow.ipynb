{
  "nbformat_minor": 0, 
  "nbformat": 4, 
  "cells": [
    {
      "execution_count": null, 
      "cell_type": "code", 
      "source": [
        "%matplotlib inline"
      ], 
      "outputs": [], 
      "metadata": {
        "collapsed": false
      }
    }, 
    {
      "source": [
        "\n# Bag of Words\n\n\nThis example shows how you can transform a quantized time series (i.e. a time\nseries represented as a sequence of letters) into a bag of words using\n:class:`pyts.bow.BOW`.\n\n"
      ], 
      "cell_type": "markdown", 
      "metadata": {}
    }, 
    {
      "execution_count": null, 
      "cell_type": "code", 
      "source": [
        "import numpy as np\nfrom pyts.bow import BOW\n\n# Parameters\nn_samples = 100\nn_features = 30\nn_bins = 4\nwindow_size = 1\nalphabet = np.array([chr(i) for i in range(97, 97 + n_bins)])\n\n# Toy dataset\nrng = np.random.RandomState(41)\nX = alphabet[rng.randint(n_bins, size=(n_samples, n_features))]\n\n# Bag-of-words transformation\nbow = BOW(window_size, numerosity_reduction=False)\nX_bow = bow.fit_transform(X)\nbow_num = BOW(window_size, numerosity_reduction=True)\nX_bow_num = bow_num.fit_transform(X)\n\nprint(\"Original time series:\")\nprint(X[0])\nprint(\"\\n\")\nprint(\"Bag of words without numerosity reduction:\")\nprint(''.join([\"{\", X_bow[0].replace(\" \", \", \"), \"}\"]))\nprint(\"\\n\")\nprint(\"Bag of words with numerosity reduction:\")\nprint(''.join([\"{\", X_bow_num[0].replace(\" \", \", \"), \"}\"]))"
      ], 
      "outputs": [], 
      "metadata": {
        "collapsed": false
      }
    }
  ], 
  "metadata": {
    "kernelspec": {
      "display_name": "Python 2", 
      "name": "python2", 
      "language": "python"
    }, 
    "language_info": {
      "mimetype": "text/x-python", 
      "nbconvert_exporter": "python", 
      "name": "python", 
      "file_extension": ".py", 
      "version": "2.7.11", 
      "pygments_lexer": "ipython2", 
      "codemirror_mode": {
        "version": 2, 
        "name": "ipython"
      }
    }
  }
}